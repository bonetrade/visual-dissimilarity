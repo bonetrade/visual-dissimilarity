{
  "nbformat": 4,
  "nbformat_minor": 0,
  "metadata": {
    "colab": {
      "name": "augmenting-images-for-dataset.ipynb",
      "provenance": [],
      "collapsed_sections": []
    },
    "kernelspec": {
      "name": "python3",
      "display_name": "Python 3"
    }
  },
  "cells": [
    {
      "cell_type": "markdown",
      "metadata": {
        "id": "22FoXTt_F4oa",
        "colab_type": "text"
      },
      "source": [
        "# Augmenting Image Data\n",
        "\n",
        "We might not have very many images of our desired training data. The code in this notebook will create new images from your source images that you can then use for training data.\n",
        "\n",
        "You need to have your source data uploaded to this environment, and then you run it on each image at a time. It saves the new images to a folder called `out`. Zip that folder, download it, delete the folder, then start over again.\n",
        "\n",
        "---\n",
        "## Get the necessary packages"
      ]
    },
    {
      "cell_type": "code",
      "metadata": {
        "id": "e-O1XLnuzwZH",
        "colab_type": "code",
        "colab": {}
      },
      "source": [
        "!pip install six numpy scipy Pillow matplotlib scikit-image opencv-python imageio Shapely"
      ],
      "execution_count": 0,
      "outputs": []
    },
    {
      "cell_type": "code",
      "metadata": {
        "id": "NzZ_hV2C1zvN",
        "colab_type": "code",
        "colab": {}
      },
      "source": [
        "!pip install imgaug"
      ],
      "execution_count": 0,
      "outputs": []
    },
    {
      "cell_type": "markdown",
      "metadata": {
        "id": "voGCIWegGbl1",
        "colab_type": "text"
      },
      "source": [
        "## Create the out directory"
      ]
    },
    {
      "cell_type": "code",
      "metadata": {
        "id": "zRlHJDskz8Sg",
        "colab_type": "code",
        "colab": {}
      },
      "source": [
        "!mkdir out"
      ],
      "execution_count": 0,
      "outputs": []
    },
    {
      "cell_type": "markdown",
      "metadata": {
        "id": "2qBPXMO_GfRq",
        "colab_type": "text"
      },
      "source": [
        "## Augment your image\n",
        "\n",
        "Put the file name in line 8."
      ]
    },
    {
      "cell_type": "code",
      "metadata": {
        "id": "xmg51Hg23iE7",
        "colab_type": "code",
        "colab": {}
      },
      "source": [
        "import imgaug as ia\n",
        "from imgaug import augmenters as iaa\n",
        "import numpy as np\n",
        "import imageio\n",
        "\n",
        "ia.seed(1)\n",
        "\n",
        "img = imageio.imread(\"file-name-goes-here.png\") #read you image\n",
        "images = np.array(\n",
        "    [img for _ in range(32)], dtype=np.uint8)  # 32 means creat 32 enhanced images using following methods.\n",
        "\n",
        "seq = iaa.Sequential(\n",
        "    [\n",
        "        iaa.Fliplr(0.5),  \n",
        "        iaa.Crop(percent=(0, 0.1)),            \n",
        "        iaa.Sometimes(0.5, iaa.GaussianBlur(sigma=(0, 0.5))),        \n",
        "        iaa.ContrastNormalization((0.75, 1.5)),         \n",
        "        iaa.AdditiveGaussianNoise(\n",
        "            loc=0, scale=(0.0, 0.05 * 255), per_channel=0.5),    \n",
        "        iaa.Multiply((0.8, 1.2), per_channel=0.2),\n",
        "        iaa.Affine(\n",
        "            scale={\n",
        "                \"x\": (0.8, 1.2),\n",
        "                \"y\": (0.8, 1.2)\n",
        "            },\n",
        "            translate_percent={\n",
        "                \"x\": (-0.2, 0.2),\n",
        "                \"y\": (-0.2, 0.2)\n",
        "            },\n",
        "            rotate=(-25, 25),\n",
        "            shear=(-8, 8))\n",
        "    ],\n",
        "    random_order=True)  # apply augmenters in random order\n",
        "\n",
        "images_aug = seq.augment_images(images)\n",
        "\n",
        "for i in range(32):\n",
        "    imageio.imwrite('out/'+str(i)+'new.png', images_aug[i])"
      ],
      "execution_count": 0,
      "outputs": []
    },
    {
      "cell_type": "markdown",
      "metadata": {
        "id": "sbvd-ArRGnia",
        "colab_type": "text"
      },
      "source": [
        "## Zip and download the results\n",
        "\n",
        "Zip the file with the code below, then right-click on the file name in the tray at left and download.\n",
        "\n",
        "The next block deletes the `out` folder."
      ]
    },
    {
      "cell_type": "code",
      "metadata": {
        "id": "YpLu8ayO5yZq",
        "colab_type": "code",
        "colab": {}
      },
      "source": [
        "!zip -r output-images.zip out\n"
      ],
      "execution_count": 0,
      "outputs": []
    },
    {
      "cell_type": "markdown",
      "metadata": {
        "id": "dJ-k8yLeUpuY",
        "colab_type": "text"
      },
      "source": [
        "Download the zip file, and then clear out the `out` folder"
      ]
    },
    {
      "cell_type": "code",
      "metadata": {
        "id": "wsJjdirq6Qjg",
        "colab_type": "code",
        "colab": {}
      },
      "source": [
        "!rm -r out\n"
      ],
      "execution_count": 0,
      "outputs": []
    },
    {
      "cell_type": "markdown",
      "metadata": {
        "id": "ZHzwaBBOG85F",
        "colab_type": "text"
      },
      "source": [
        "### Go back to the beginning and create the out directory."
      ]
    }
  ]
}